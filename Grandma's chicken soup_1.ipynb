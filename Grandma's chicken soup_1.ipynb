{
 "cells": [
  {
   "cell_type": "code",
   "execution_count": 45,
   "metadata": {},
   "outputs": [],
   "source": [
    "from PIL import Image\n",
    "from matplotlib.pyplot import imshow\n"
   ]
  },
  {
   "cell_type": "code",
   "execution_count": 66,
   "metadata": {},
   "outputs": [
    {
     "name": "stdout",
     "output_type": "stream",
     "text": [
      "(80, 40)\n",
      "(255, 255, 255)\n"
     ]
    },
    {
     "data": {
      "text/plain": [
       "<matplotlib.image.AxesImage at 0x7fb0ee4836d0>"
      ]
     },
     "execution_count": 66,
     "metadata": {},
     "output_type": "execute_result"
    },
    {
     "data": {
      "image/png": "[encoded data removed]",
      "text/plain": [
       "<Figure size 432x288 with 1 Axes>"
      ]
     },
     "metadata": {
      "needs_background": "light"
     },
     "output_type": "display_data"
    }
   ],
   "source": [
    "im = Image.open('Mol-2021/pattern-02.jpg')\n",
    "im = im.resize((80,40))\n",
    "print(im.size)\n",
    "print(im.getpixel((4,1)))\n",
    "imshow(im)"
   ]
  },
  {
   "cell_type": "code",
   "execution_count": 54,
   "metadata": {},
   "outputs": [],
   "source": [
    "text = \"\""
   ]
  },
  {
   "cell_type": "code",
   "execution_count": 68,
   "metadata": {},
   "outputs": [
    {
     "name": "stdout",
     "output_type": "stream",
     "text": [
      " Lorem ipsum dol     or sit amet, co     nsectetur adipi    scing elit, sed     \n",
      "  do  ei usmo d t    em por  inc  id    idu nt u t l abo    re   et  dol or     \n",
      "  e mag   na ali  q   ua. U   t  en   im  ad mi   nim v  en  ia m,    quis   n  \n",
      "   ost      rud   exe  rc      ita   tion  ul      lam   co   la      bor  is n \n",
      "i   si     ut   aliqui  p e   x e   a comm odo     co  nsequa  t.     Du  is aut\n",
      "e    ir ur e   dolor in   rep re   henderit   in  vo  luptate   veli t   esse ci\n",
      "llu    m dol ore eu fugi  at nu  lla pariatu  r. E   xcepteur si nt oc  caecat c\n",
      "upi  datat non proident,  sunt i n culpa qui  offici a deserunt  mollit  anim id\n",
      " e  st lab orum.Lorem i ps um  do  lor sit  am et  ,  consecte tur a  di piscing\n",
      "   elit   , sed  do e iusmo   d te  mpor i nci    didu nt ut  lab    ore  et dol\n",
      "  or e m agna  a liq ua. Ut  eni m a d mi nim v  eni am , qu is nos tru d  exer \n",
      " citation ullamco   laboris nisi ut a liquip ex ea commo do  consequat. Dui s   \n",
      "aute irure dolor i n reprehenderit in  voluptate velit es  se cillum dolore e   \n",
      "   u fugiat nu   lla  pariatur. Ex  cepte ur sint occa  ecat  cupidatat n  on   \n",
      "p   roid ent,     sun   t in  cul    pa q  ui officia    des  erunt moll   it a \n",
      "n   im id est    labo  rum.Lorem    ipsum    dol or s   it am  et,  cons   ectet\n",
      "ur  adipiscing  elit,  sed do eius mod te mpor incidid unt u  t labore et   dol \n",
      "ore magna aliqua.  Ut enim ad minim v  eniam, quis nostru d exercitation ull a  \n",
      " mco laboris nis     i ut aliquip ex     ea commodo cons   equat. Duis aute     \n",
      "   irure   dolo   r   in re  prehen  de  rit in  vol up  ta  te vel it  es  se  \n",
      "    cil    lum    dol  ore     eu   fugia t nu    lla   pari  atur   . Ex  cept \n",
      "    eur  s in   t occa  ec at  cu  pidata   t  no n p  roiden  t,  s unt   in cu\n",
      "l     pa qui    officia   deseru  nt mollit   anim i d est lab  orum.Lo  rem ips\n",
      "um     dolo   r sit amet  , co   nsectetur a  dipi  scing elit,   sed    do eius\n",
      "mod   tempor   incididun t ut la bore et do  lore m  agna aliqu a. Ut   enim ad \n",
      "min im  v  en  iam, qui s  no str ud exerc  it at io  n ullamc o  la bor is nisi\n",
      " u t a    liqu  ip ex ea c    ommo  do co  nse    qua  t. Dui s a    ute  irure \n",
      "d olor   in  re  prehenderi  t in v  olu ptate    veli  t e  sse c  illum   dol \n",
      " ore eu fugi  at   null a pariat ur.    Exc epteur s in  t occ aecat cu pid at  \n",
      "at non proident,   sunt in culpa qui   officia deserunt m ollit anim id est     \n",
      "  laborum.Lorem  ipsu m dolor sit  amet, consectetur a dipiscing elit, se d d   \n",
      "   o eiusmod     tem   por incidi   dunt   ut labore    et    dolore mag   na   \n",
      "a   liqu a. U   t eni  m ad  min    im ve  niam , qu   is no   str  ud    exerc \n",
      "   itation ull  amco   laboris ni  si ut   aliquip ex   ea c  ommodo con  sequa \n",
      " t. Duis aute irure dolor in reprehenderit in voluptate velit esse cillum dolo  \n",
      "re eu fugiat nul    la pariatur. Exc   epteur sint occae   cat cupidatat no     \n",
      " n p roi den t,   s  un t i n culpa   q  ui  officia de  s  er unt moll it   a  \n",
      "  nim i   d es  t la  boru   m.Lor  em i  psum    dolo  r s  it am  et, c  onse \n",
      "c   te  tu r   adipis  cin g  eli  t, sed   d  o  eiu smod t  emp or  in  cididu\n",
      "nt    ut lab  ore et d  olore ma  gna aliq  u a. U t  enim ad    mini m   veniam\n",
      "\n"
     ]
    }
   ],
   "source": [
    "i = 0\n",
    "stylized_text = \"\"\n",
    "for y_index in range(im.size[1]):\n",
    "    for x_index in range(im.size[0]):\n",
    "        r,g,b = im.getpixel((x_index, y_index))\n",
    "        if (r < 250 and g < 250 and b < 250):\n",
    "            stylized_text += text[i]\n",
    "            i += 1\n",
    "            if (i >= len(text)):\n",
    "                i = 0\n",
    "        else:\n",
    "            stylized_text += \" \"\n",
    "\n",
    "    stylized_text += '\\n'\n",
    "\n",
    "print(stylized_text)\n",
    "    "
   ]
  },
  {
   "cell_type": "code",
   "execution_count": null,
   "metadata": {},
   "outputs": [],
   "source": []
  },
  {
   "cell_type": "code",
   "execution_count": null,
   "metadata": {},
   "outputs": [],
   "source": []
  }
 ],
 "metadata": {
  "kernelspec": {
   "display_name": "Python 3",
   "language": "python",
   "name": "python3"
  },
  "language_info": {
   "codemirror_mode": {
    "name": "ipython",
    "version": 3
   },
   "file_extension": ".py",
   "mimetype": "text/x-python",
   "name": "python",
   "nbconvert_exporter": "python",
   "pygments_lexer": "ipython3",
   "version": "3.8.5"
  }
 },
 "nbformat": 4,
 "nbformat_minor": 4
}
